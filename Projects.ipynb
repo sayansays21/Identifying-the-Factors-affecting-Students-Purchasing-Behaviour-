{
 "cells": [
  {
   "cell_type": "code",
   "execution_count": 1,
   "metadata": {},
   "outputs": [],
   "source": [
    "import random\n",
    "import string\n",
    "import numpy as np\n",
    "import pandas as pd"
   ]
  },
  {
   "cell_type": "markdown",
   "metadata": {},
   "source": [
    "## Project 1 Recommending cards:- \n",
    "1. See the available credit card limit of a customer and offer a card which is higher than the maximum credit card limit of the customer.\n",
    "2. You need to list the benefits depending upon customers shopping history from our card dictionary provided."
   ]
  },
  {
   "cell_type": "code",
   "execution_count": 2,
   "metadata": {},
   "outputs": [],
   "source": [
    "class Generate_credit_data(object):\n",
    "    number_of_cards = random.choice(range(1,5))\n",
    "    global credit_card_types\n",
    "    credit_card_types = ['ctype1','ctype2','ctype3','ctype4','ctype5']\n",
    "    credit_limits     = [120000,200000,350000,500000,700000]\n",
    "    global card_avail_dict\n",
    "    card_avail_dict = dict(zip(credit_card_types,credit_limits))\n",
    "    global shopping_history\n",
    "    shopping_history  = ['Travels','Restaurants','Gas stations','Bill Payments','Insurance','online shopping']\n",
    "    def generate_sample(self,sample_size):\n",
    "        '''\n",
    "            generates the sample data for computation\n",
    "        '''\n",
    "        master_data = []\n",
    "        for data in range(sample_size):\n",
    "            entry = ['Customer_'+str(data+1)]\n",
    "            number_of_cards = random.choice(range(2,5))\n",
    "            entry.append(number_of_cards)\n",
    "            credit_card_types_copy = credit_card_types.copy()\n",
    "            shopping_history_copy = shopping_history.copy()\n",
    "            for i in range(5):    \n",
    "                if i < number_of_cards:\n",
    "                    card= random.choice(credit_card_types_copy)\n",
    "                    limit = card_avail_dict[card]\n",
    "                    entry.append(card)\n",
    "                    entry.append(limit)\n",
    "                    credit_card_types_copy.remove(card)\n",
    "                else:\n",
    "                    entry.append(np.nan)\n",
    "                    entry.append(np.nan)\n",
    "            entry.append(random.choices(shopping_history_copy,k=4))\n",
    "            master_data.append(entry)\n",
    "        return master_data\n",
    "    \n",
    "    def generate_dataset(self,n):\n",
    "        '''\n",
    "            Converts it to dataframe for future use\n",
    "        '''\n",
    "        df = pd.DataFrame(np.array(self.generate_sample(n)),\n",
    "                          columns=['Customer','number_of_cards',\n",
    "                                     'Card1','credit_limit_card1',\n",
    "                                     'Card2','credit_limit_card2',\n",
    "                                     'Card3','credit_limit_card3',\n",
    "                                     'Card4','credit_limit_card4',\n",
    "                                     'Card5','credit_limit_card5',\n",
    "                                     'Shopping Habits'\n",
    "                                    ])\n",
    "        return df\n",
    "    "
   ]
  },
  {
   "cell_type": "code",
   "execution_count": 3,
   "metadata": {},
   "outputs": [],
   "source": [
    "our_cards = {'Elite_Vampires':[300000,['10% discount on travel','cashback on bill payments',\n",
    "                                       '2% off on fuel prices','5% discount on select restaurants','insurance auto pay']],\n",
    "             'High_Warlocks' :[500000,['10% discount on travel','2% off on fuel prices and lucky coupon offers',\n",
    "                                       '4% off on online orders','5% discount on select restaurants',\n",
    "                                       'cashback on bill payments',\n",
    "                                       'insurance auto pay and movie vouchers']],\n",
    "             'Mighty_Shadowhunters':[900000,['10% discount on travel','5% off on fuel prices in select locations',\n",
    "                                       'online orders free for first 5 purchases','5% discount on select restaurants',\n",
    "                                       'cashback on bill payments with discount upto 10%',\n",
    "                                       'insurance auto pay and movie vouchers']]\n",
    "            }"
   ]
  },
  {
   "cell_type": "code",
   "execution_count": 5,
   "metadata": {},
   "outputs": [],
   "source": [
    "################ Use these to generate the dataset needed\n",
    "################\n",
    "c = Generate_credit_data()\n",
    "data = c.generate_dataset(100)\n",
    "data.to_csv('Project1.csv')"
   ]
  },
  {
   "cell_type": "markdown",
   "metadata": {},
   "source": [
    "## Growth rate simulator \n",
    "1. Consider the current and future fund transfers and the designated number of years needed to attain the future fund transfers. We need to calculate the growth rate which is given as :- <br>\n",
    "future_transfer = current_transfer(1+growth_rate)^years\n",
    "2. Build different analysis tables using groupBy keeping interest rates,years and both as primary keys\n",
    "3. Create a column in the dataset for performance analysis where if current fund transfers are above 800, then the label 'Green' needs to be assigned, if between 500-800, then assign 'Yellow' else assign 'Red'. Sample out the centers which are red and order them in ascending order in accordance to their growth rates attained"
   ]
  },
  {
   "cell_type": "code",
   "execution_count": 6,
   "metadata": {},
   "outputs": [],
   "source": [
    "class Create_growth_data(object):\n",
    "    def create_data(self,sample_size):\n",
    "        master_data = []\n",
    "        for i in range(sample_size):\n",
    "            customer = ''.join([str(elem) for elem in random.choices(string.ascii_letters,k=60)])\n",
    "            r = random.random()\n",
    "            if r>0.8:\n",
    "                fund_transfers = random.randrange(1000,2500)\n",
    "            elif r>0.5 and r<0.8:\n",
    "                bop = random.randrange(700,1000)\n",
    "            elif r<0.5 and r>0.2:\n",
    "                fund_transfers = random.randrange(300,700)\n",
    "            else:\n",
    "                fund_transfers = random.randrange(100,300)\n",
    "            multiplier_val = random.random()\n",
    "            target_fund_t  = fund_transfers*(1+multiplier_val)\n",
    "            number_mnths   = random.randrange(5,20)\n",
    "            master_data.append([customer,fund_transfers,number_mnths,int(target_fund_t)])\n",
    "        return master_data\n",
    "    def create_dataframe(self,sample_size):\n",
    "        df = pd.DataFrame(np.array(self.create_data(sample_size)),columns=['Center ID','Current Fund Transfers',\n",
    "                                                                      'Number of years','Future Fund Transfers'])\n",
    "        return df"
   ]
  },
  {
   "cell_type": "code",
   "execution_count": 7,
   "metadata": {},
   "outputs": [],
   "source": [
    "c = Create_growth_data()\n",
    "df = c.create_dataframe(3)\n",
    "df.to_csv('Project2.csv')"
   ]
  },
  {
   "cell_type": "markdown",
   "metadata": {},
   "source": [
    "## Project 3:- Claims and reserves \n",
    "1. Use the function to create the dataset. \n",
    "2. The premiums remain constant through out (assumption). The current state is 0 (which means the company will not have to pay claims). Simulate for 5 months (using the claim_transition_prob) given and similar to what we discussed in class.\n",
    "3. The profits for you will be the premiums. If the state is 0, then you have a profit worth of premium. If state is 1, then the loss is Claim. You need to create a separate columnfor profits and losses for each customer at end of 5 year period."
   ]
  },
  {
   "cell_type": "code",
   "execution_count": 8,
   "metadata": {},
   "outputs": [],
   "source": [
    "def create_data_claims(sample_size):\n",
    "    master_data = []\n",
    "    for i in range(sample_size):\n",
    "        customer = ''.join([str(elem) for elem in random.choices(string.ascii_letters,k=20)])\n",
    "        premium  = random.randrange(1000,3000)\n",
    "        claim    = random.randrange(10000,30000)\n",
    "        master_data.append([customer,premium,claim,0])\n",
    "    df = pd.DataFrame(np.array(master_data),columns=['Customer_ID','Premium','Claim','Current_state'])\n",
    "    return df"
   ]
  },
  {
   "cell_type": "code",
   "execution_count": 9,
   "metadata": {},
   "outputs": [],
   "source": [
    "claim_transition_prob = np.array([[0.95,0.05],[0.99,0.01]])"
   ]
  },
  {
   "cell_type": "code",
   "execution_count": null,
   "metadata": {},
   "outputs": [],
   "source": [
    "df = create_data_claims(100)\n",
    "df.to_csv('Project3.csv')"
   ]
  },
  {
   "cell_type": "code",
   "execution_count": null,
   "metadata": {},
   "outputs": [],
   "source": []
  }
 ],
 "metadata": {
  "kernelspec": {
   "display_name": "Python 3",
   "language": "python",
   "name": "python3"
  },
  "language_info": {
   "codemirror_mode": {
    "name": "ipython",
    "version": 3
   },
   "file_extension": ".py",
   "mimetype": "text/x-python",
   "name": "python",
   "nbconvert_exporter": "python",
   "pygments_lexer": "ipython3",
   "version": "3.7.4"
  }
 },
 "nbformat": 4,
 "nbformat_minor": 2
}
